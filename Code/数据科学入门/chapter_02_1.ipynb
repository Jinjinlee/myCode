{
 "cells": [
  {
   "cell_type": "code",
   "execution_count": 1,
   "metadata": {},
   "outputs": [
    {
     "name": "stdout",
     "output_type": "stream",
     "text": [
      "The Zen of Python, by Tim Peters\n",
      "\n",
      "Beautiful is better than ugly.\n",
      "Explicit is better than implicit.\n",
      "Simple is better than complex.\n",
      "Complex is better than complicated.\n",
      "Flat is better than nested.\n",
      "Sparse is better than dense.\n",
      "Readability counts.\n",
      "Special cases aren't special enough to break the rules.\n",
      "Although practicality beats purity.\n",
      "Errors should never pass silently.\n",
      "Unless explicitly silenced.\n",
      "In the face of ambiguity, refuse the temptation to guess.\n",
      "There should be one-- and preferably only one --obvious way to do it.\n",
      "Although that way may not be obvious at first unless you're Dutch.\n",
      "Now is better than never.\n",
      "Although never is often better than *right* now.\n",
      "If the implementation is hard to explain, it's a bad idea.\n",
      "If the implementation is easy to explain, it may be a good idea.\n",
      "Namespaces are one honking great idea -- let's do more of those!\n"
     ]
    }
   ],
   "source": [
    "# 2.1.2 zen of Python\n",
    "import this"
   ]
  },
  {
   "cell_type": "code",
   "execution_count": 2,
   "metadata": {},
   "outputs": [
    {
     "name": "stdout",
     "output_type": "stream",
     "text": [
      "1\n",
      "1\n",
      "2\n",
      "2\n",
      "3\n",
      "3\n",
      "4\n",
      "4\n",
      "5\n",
      "5\n",
      "6\n",
      "1\n",
      "2\n",
      "1\n",
      "3\n",
      "2\n",
      "4\n",
      "3\n",
      "5\n",
      "4\n",
      "6\n",
      "5\n",
      "7\n",
      "2\n",
      "3\n",
      "1\n",
      "4\n",
      "2\n",
      "5\n",
      "3\n",
      "6\n",
      "4\n",
      "7\n",
      "5\n",
      "8\n",
      "3\n",
      "4\n",
      "1\n",
      "5\n",
      "2\n",
      "6\n",
      "3\n",
      "7\n",
      "4\n",
      "8\n",
      "5\n",
      "9\n",
      "4\n",
      "5\n",
      "1\n",
      "6\n",
      "2\n",
      "7\n",
      "3\n",
      "8\n",
      "4\n",
      "9\n",
      "5\n",
      "10\n",
      "5\n",
      "done looping\n"
     ]
    }
   ],
   "source": [
    "# 2.1.3 blank format\n",
    "for i in [1, 2, 3, 4, 5]: \n",
    "    print(i)\n",
    "    for j in [1, 2, 3, 4, 5]: \n",
    "        print(j)\n",
    "        print(i + j)\n",
    "    print(i)\n",
    "print(\"done looping\")"
   ]
  },
  {
   "cell_type": "code",
   "execution_count": 3,
   "metadata": {},
   "outputs": [
    {
     "data": {
      "text/plain": [
       "re.compile(r'[0-9]+', re.IGNORECASE|re.UNICODE)"
      ]
     },
     "execution_count": 3,
     "metadata": {},
     "output_type": "execute_result"
    }
   ],
   "source": [
    "# 2.1.4 modules\n",
    "import re\n",
    "my_regex = re.compile(\"[0-9]+\", re.I)\n",
    "my_regex"
   ]
  },
  {
   "cell_type": "code",
   "execution_count": 4,
   "metadata": {},
   "outputs": [],
   "source": [
    "# 2.1.5 algorithm\n",
    "# Just for Python 2.x version\n",
    "from __future__ import division\n",
    "# 5 / 2 = 2 in Python 2.x"
   ]
  },
  {
   "cell_type": "code",
   "execution_count": 5,
   "metadata": {},
   "outputs": [
    {
     "data": {
      "text/plain": [
       "2"
      ]
     },
     "execution_count": 5,
     "metadata": {},
     "output_type": "execute_result"
    }
   ],
   "source": [
    "# 2.1.6 function\n",
    "def double(x):\n",
    "    return x * 2\n",
    "\n",
    "def apply_to_one(f):\n",
    "    return f(1)\n",
    "\n",
    "my_double = double\n",
    "x = apply_to_one(my_double)\n",
    "x"
   ]
  },
  {
   "cell_type": "code",
   "execution_count": 6,
   "metadata": {},
   "outputs": [
    {
     "data": {
      "text/plain": [
       "2"
      ]
     },
     "execution_count": 6,
     "metadata": {},
     "output_type": "execute_result"
    }
   ],
   "source": [
    "# 2.1.7 string\n",
    "not_tab_string = r\"\\t\"\n",
    "len(not_tab_string)"
   ]
  },
  {
   "cell_type": "code",
   "execution_count": 7,
   "metadata": {},
   "outputs": [
    {
     "name": "stdout",
     "output_type": "stream",
     "text": [
      "cannot divide by zero\n"
     ]
    }
   ],
   "source": [
    "# 2.1.8 abnormity\n",
    "try:print(0 / 0)\n",
    "except ZeroDivisionError:print(\"cannot divide by zero\")"
   ]
  },
  {
   "cell_type": "code",
   "execution_count": 8,
   "metadata": {},
   "outputs": [
    {
     "name": "stdout",
     "output_type": "stream",
     "text": [
      "list length:  3\n",
      "list sum:  6\n",
      "True\n",
      "False\n",
      "x after extend:  [1, 2, 3, 4, 5, 6]\n",
      "x: [1, 2, 3] y: [1, 2, 3, 4, 5, 6]\n",
      "x, y = [1, 2]: x = 1 , y = 2\n",
      "-, y = [1, 2]: y = 2\n"
     ]
    }
   ],
   "source": [
    "# 2.1.9 list\n",
    "integer_list = [1, 2, 3]\n",
    "heterogeneous_list = [\"string\", 0.1, True]\n",
    "list_of_lists = [ integer_list, heterogeneous_list, [] ]\n",
    "list_length = len(integer_list)\n",
    "list_sum = sum(integer_list)\n",
    "print('list length: ', list_length)\n",
    "print('list sum: ', list_sum)\n",
    "############\n",
    "print(1 in [1, 2, 3])\n",
    "print(0 in [1, 2, 3])\n",
    "############\n",
    "x = [1, 2, 3]\n",
    "x.extend([4, 5, 6])\n",
    "print('x after extend: ', x)\n",
    "############\n",
    "x = [1, 2, 3]\n",
    "y = x + [4, 5, 6]\n",
    "print('x:', x, 'y:', y)\n",
    "############\n",
    "x, y = [1, 2]\n",
    "print('x, y = [1, 2]: x =', x, ',', 'y =', y)\n",
    "############\n",
    "_, y = [1, 2]\n",
    "print('-, y = [1, 2]: y =', y)"
   ]
  },
  {
   "cell_type": "code",
   "execution_count": 9,
   "metadata": {},
   "outputs": [
    {
     "name": "stdout",
     "output_type": "stream",
     "text": [
      "cannot modify a tuple\n",
      "sp = (5, 6)\n",
      "s = 15\n",
      "p = 50\n"
     ]
    }
   ],
   "source": [
    "# 2.1.10 tuple\n",
    "my_list = [1, 2]\n",
    "my_tuple = (1, 2)\n",
    "other_tuple = 3, 4\n",
    "my_list[1] = 3\n",
    "try:my_tuple[1] = 3\n",
    "except TypeError:print(\"cannot modify a tuple\")\n",
    "############\n",
    "def sum_and_product(x, y):\n",
    "    return (x + y),(x * y)\n",
    "sp = sum_and_product(2, 3)\n",
    "s, p = sum_and_product(5, 10)\n",
    "print('sp =', sp)\n",
    "print('s =', s)\n",
    "print('p =', p)"
   ]
  },
  {
   "cell_type": "code",
   "execution_count": 10,
   "metadata": {},
   "outputs": [
    {
     "name": "stdout",
     "output_type": "stream",
     "text": [
      "no grade for Kate!\n",
      "\"Joel\" in grades: True\n",
      "\"Kate\" in grades: False\n",
      "grades.get(\"Joel\", 0): 80\n",
      "grades.get(\"Kate\", 0): 0\n",
      "grades.get(\"No One\"): None\n",
      "\"user\" in tweet_keys: True\n",
      "\"user\" in tweet: True\n",
      "\"joelgrus\" in tweet_values: True\n"
     ]
    }
   ],
   "source": [
    "# 2.1.11 dictionary\n",
    "empty_dict = {}\n",
    "grades = { \"Joel\" : 80, \"Tim\" : 95 }\n",
    "joels_grade = grades[\"Joel\"]\n",
    "try: kates_grade = grades[\"Kate\"]\n",
    "except KeyError:print(\"no grade for Kate!\")\n",
    "#############\n",
    "print('\"Joel\" in grades:', \"Joel\" in grades)\n",
    "print('\"Kate\" in grades:', \"Kate\" in grades)\n",
    "############\n",
    "print('grades.get(\"Joel\", 0):', grades.get(\"Joel\", 0))\n",
    "print('grades.get(\"Kate\", 0):', grades.get(\"Kate\", 0))\n",
    "print('grades.get(\"No One\"):', 'None')\n",
    "############\n",
    "tweet = {\n",
    "         \"user\" : \"joelgrus\",\n",
    "         \"text\" : \"Data Science is Awesome\",\n",
    "         \"retweet_count\" : 100,\n",
    "         \"hashtags\" : [\"#data\", \"#science\", \"#datascience\", \"#awesome\", \"#yolo\"]\n",
    "}\n",
    "tweet_keys   = tweet.keys()\n",
    "tweet_values = tweet.values()\n",
    "tweet_items  = tweet.items()\n",
    "print('\"user\" in tweet_keys:', \"user\" in tweet_keys)\n",
    "print('\"user\" in tweet:', \"user\" in tweet)\n",
    "print('\"joelgrus\" in tweet_values:', \"joelgrus\" in tweet_values)\n",
    "############\n",
    "# default dict\n",
    "from collections import defaultdict\n",
    "\n",
    "# counter\n",
    "from collections import Counter"
   ]
  },
  {
   "cell_type": "code",
   "execution_count": null,
   "metadata": {},
   "outputs": [],
   "source": [
    "# 2.1.12 set\n",
    "# 使用集合的原因有两个，第一是in操作\n",
    "# 第二是便于在一个汇总中查找离散项目"
   ]
  },
  {
   "cell_type": "code",
   "execution_count": null,
   "metadata": {},
   "outputs": [],
   "source": [
    "# 2.1.13 control flow\n",
    "# if, while, and for"
   ]
  },
  {
   "cell_type": "code",
   "execution_count": 11,
   "metadata": {},
   "outputs": [
    {
     "name": "stdout",
     "output_type": "stream",
     "text": [
      "True\n",
      "True\n"
     ]
    }
   ],
   "source": [
    "# 2.1.14 True and False\n",
    "x = None\n",
    "print(x == None) # 不符合Python惯用法\n",
    "print(x is None) # 符合Python惯用法\n",
    "############\n",
    "# all() 和 any() 函数"
   ]
  }
 ],
 "metadata": {
  "kernelspec": {
   "display_name": "Python 3",
   "language": "python",
   "name": "python3"
  },
  "language_info": {
   "codemirror_mode": {
    "name": "ipython",
    "version": 3
   },
   "file_extension": ".py",
   "mimetype": "text/x-python",
   "name": "python",
   "nbconvert_exporter": "python",
   "pygments_lexer": "ipython3",
   "version": "3.6.4"
  }
 },
 "nbformat": 4,
 "nbformat_minor": 2
}
