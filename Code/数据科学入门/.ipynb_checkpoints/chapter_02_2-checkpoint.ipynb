{
 "cells": [
  {
   "cell_type": "code",
   "execution_count": 1,
   "metadata": {},
   "outputs": [
    {
     "name": "stdout",
     "output_type": "stream",
     "text": [
      "[-4, 3, -2, 1]\n"
     ]
    }
   ],
   "source": [
    "# 2.2.1 sorting\n",
    "x = [4,1,2,3]\n",
    "y = sorted(x)\n",
    "x.sort()\n",
    "#####\n",
    "# 按key排序\n",
    "x = sorted([-4,1,-2,3], key=abs, reverse=True)\n",
    "print(x)"
   ]
  },
  {
   "cell_type": "code",
   "execution_count": 2,
   "metadata": {},
   "outputs": [
    {
     "name": "stdout",
     "output_type": "stream",
     "text": [
      "[0, 2, 4]\n",
      "[0, 1, 4, 9, 16]\n",
      "[0, 4, 16]\n",
      "{0: 0, 1: 1, 2: 4, 3: 9, 4: 16}\n",
      "{1}\n",
      "[0, 0, 0]\n",
      "[(0, 0), (0, 1), (0, 2), (0, 3), (0, 4)]\n",
      "[(0, 1), (0, 2), (0, 3), (0, 4), (0, 5)]\n"
     ]
    }
   ],
   "source": [
    "# 2.2.2 list comprehension\n",
    "even_numbers = [x for x in range(5) if x % 2 == 0]\n",
    "print(even_numbers)\n",
    "squares = [x * x for x in range(5)]\n",
    "print(squares)\n",
    "even_squares = [x * x for x in even_numbers]\n",
    "print(even_squares)\n",
    "square_dict = { x : x * x for x in range(5) }\n",
    "print(square_dict)\n",
    "square_set = { x * x for x in [1, -1] }\n",
    "print(square_set)\n",
    "zeroes = [0 for _ in even_numbers]\n",
    "print(zeroes)\n",
    "pairs = [(x, y)\n",
    "for x in range(10)\n",
    "for y in range(10)]\n",
    "print(pairs[:5])\n",
    "increasing_pairs = [(x, y)\n",
    "for x in range(10)\n",
    "for y in range(x + 1, 10)]\n",
    "print(increasing_pairs[:5])"
   ]
  },
  {
   "cell_type": "code",
   "execution_count": null,
   "metadata": {},
   "outputs": [],
   "source": [
    "# 2.2.3 generator and iterator"
   ]
  },
  {
   "cell_type": "code",
   "execution_count": null,
   "metadata": {},
   "outputs": [],
   "source": [
    "# 2.2.4 random"
   ]
  },
  {
   "cell_type": "code",
   "execution_count": 3,
   "metadata": {},
   "outputs": [],
   "source": [
    "# 2.2.5 regular expression\n",
    "import re"
   ]
  },
  {
   "cell_type": "code",
   "execution_count": null,
   "metadata": {},
   "outputs": [],
   "source": [
    "# 2.2.6 object oriented"
   ]
  },
  {
   "cell_type": "code",
   "execution_count": null,
   "metadata": {},
   "outputs": [],
   "source": [
    "# 2.2.7 "
   ]
  },
  {
   "cell_type": "code",
   "execution_count": null,
   "metadata": {},
   "outputs": [],
   "source": [
    "# 2.2.8 \n",
    "# for i, _ in enumerate(documents): do_something(i)"
   ]
  },
  {
   "cell_type": "code",
   "execution_count": null,
   "metadata": {},
   "outputs": [],
   "source": [
    "# 2.2.9 argument unpacking"
   ]
  },
  {
   "cell_type": "code",
   "execution_count": null,
   "metadata": {},
   "outputs": [],
   "source": [
    "# 2.2.10 args and kwargs"
   ]
  }
 ],
 "metadata": {
  "kernelspec": {
   "display_name": "Python 3",
   "language": "python",
   "name": "python3"
  },
  "language_info": {
   "codemirror_mode": {
    "name": "ipython",
    "version": 3
   },
   "file_extension": ".py",
   "mimetype": "text/x-python",
   "name": "python",
   "nbconvert_exporter": "python",
   "pygments_lexer": "ipython3",
   "version": "3.6.4"
  }
 },
 "nbformat": 4,
 "nbformat_minor": 2
}
