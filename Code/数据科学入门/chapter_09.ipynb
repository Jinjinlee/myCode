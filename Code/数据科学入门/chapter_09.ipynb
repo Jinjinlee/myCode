{
 "cells": [
  {
   "cell_type": "code",
   "execution_count": 1,
   "metadata": {},
   "outputs": [
    {
     "name": "stdout",
     "output_type": "stream",
     "text": [
      "the length of reviews is: 297\n"
     ]
    }
   ],
   "source": [
    "# 9.3 web scrapting\n",
    "# 9.3.1 get movie reviews from rottentomatoes\n",
    "\n",
    "import requests\n",
    "from bs4 import BeautifulSoup\n",
    "\n",
    "# define the function and transit id and page_number to url\n",
    "def getReviews(movie_id):\n",
    "    reviews=[]\n",
    "    num = 1\n",
    "    pnum = str(num)\n",
    "    url='https://www.rottentomatoes.com/m/'+ movie_id + '/reviews/?page=' + pnum + '&sort='\n",
    "# start the while loop to choose page\n",
    "    while url!= None:\n",
    "        page = requests.get(url)\n",
    "        if page.status_code!=200: url=None\n",
    "        else:\n",
    "            num += 1\n",
    "            pnum = str(num)\n",
    "            url='https://www.rottentomatoes.com/m/'+ movie_id + '/reviews/?page=' + pnum + '&sort='\n",
    "# use BeautifulSoup to analyse the web content            \n",
    "            soup=BeautifulSoup(page.content,'html.parser')\n",
    "            divs=soup.select('div#reviews div div div div div.review_area')\n",
    "            for idx, div in enumerate(divs):\n",
    "                date=None\n",
    "                desc=None\n",
    "                scor=None\n",
    "# get date\n",
    "                div_date=div.select('div.review_date')\n",
    "                if div_date!=[]: date=div_date[0].get_text()\n",
    "# get description\n",
    "                div_desc=div.select('div.the_review')\n",
    "                if div_desc!=[]: desc=div_desc[0].get_text()\n",
    "# get score\n",
    "# if there's no score, return 'No Score'\n",
    "                div_scor=div.select('div.review_desc div.small')\n",
    "                if div_scor!=[]: scor=div_scor[0].get_text()\n",
    "                scor = scor.split('|')\n",
    "                if len(scor) == 2: scor = scor[1]\n",
    "                else:  scor = 'No Score'    \n",
    "                reviews.append((date, desc, scor))\n",
    "    if len(reviews) == 0: \n",
    "        return 'Movie Not Found'\n",
    "    else:\n",
    "        return reviews\n",
    "\n",
    "if __name__ == \"__main__\":\n",
    "    movie_id='finding_dory'\n",
    "    reviews=getReviews(movie_id)\n",
    "    print('the length of reviews is:',len(reviews))"
   ]
  },
  {
   "cell_type": "code",
   "execution_count": 5,
   "metadata": {},
   "outputs": [],
   "source": [
    "# 9.3.2 get date, short reviews and scores from 豆瓣\n",
    "\n",
    "import requests\n",
    "from bs4 import BeautifulSoup\n",
    "\n",
    "# get data from website\n",
    "url='https://movie.douban.com/subject/26416062/comments?status=P'\n",
    "page = requests.get(url)\n",
    "soup=BeautifulSoup(page.content,'html.parser')\n",
    "\n",
    "# select comment data\n",
    "l = soup.select('div.comment')\n",
    "\n",
    "# get all comment strings in a list\n",
    "comments = []\n",
    "for i in l: comments.append(i.p.string)\n",
    "\n",
    "# get all date in a list\n",
    "date = []\n",
    "for i in l: date.append(i.select('h3 span.comment-info span[class]')[1].string.strip())\n",
    "\n",
    "# get all star scores in a list\n",
    "star = []\n",
    "for i in l: star.append(i.select('h3 span.comment-info span[class]')[0]['title'])\n",
    "\n",
    "# put every data in one list\n",
    "reviews = []\n",
    "for i in range(len(l)): reviews.append((date[i], comments[i], star[i]))"
   ]
  },
  {
   "cell_type": "code",
   "execution_count": 6,
   "metadata": {},
   "outputs": [
    {
     "name": "stdout",
     "output_type": "stream",
     "text": [
      "('2018-06-15', ' 影片三观极正！在恐龙和人类之间，就该TMD关门放恐龙，咬死我们这些人类！！！\\n        ', '还行')\n",
      "('2018-06-15', ' 本片已收录于《圣母婊摧毁世界的1000种方法》。\\n        ', '还行')\n",
      "('2018-06-10', ' 因为不能让恐龙死，就把恐龙放出去吃人？恐龙比人命还重要？不愧是《猪逻辑世界2》，猪一样的逻辑，而且还很2。把恐龙放出来表面上是保护动物，其实是为下一部拍恐龙入侵人类世界做铺垫，首先非常伪善，其次说明下一部才是高潮。《侏罗纪世界2》只是一部《侏罗纪世界3》的加长预告片，只是一件牺牲品。\\n        ', '较差')\n",
      "('2018-06-15', ' 万万没想到有些情节挺感人的，当人类的救援船离开努不拉岛的码头，一只没有上船的腕龙，作出仰望天空双足站立的姿势，他巨大的身躯快要被奔射而出的火山灰和岩浆吞没，真的好可怜...我差点就哭了\\n        ', '力荐')\n",
      "('2018-06-15', ' 别的不说，让我先吹爆这特效！！\\n        ', '推荐')\n",
      "('2018-06-15', None, '推荐')\n",
      "('2018-06-15', ' 全篇生动的阐述了，什么叫做不作死不会死。但是不那样剧情又没法发展下去，真的又俗又套路，特效太满，岛上悬崖那场戏很没新意了。\\n布鲁小公主感动了。恐龙巨大的身影投在帐篷上也很棒，腕龙也挺可爱的。\\n最后总结，珍爱生命，远离圣母婊。\\n        ', '还行')\n",
      "('2018-06-16', ' 果然是西班牙导演，把恐龙片拍成古堡恐怖片。\\n        ', '还行')\n",
      "('2018-06-15', ' 布鲁中枪和腕龙目送船离港两幕实在太难过了！！！暴龙和狮子的对吼实在太萌了！！！牛龙和沧龙实在太帅了！！！世界上最好的系列电影，不要停继续拍！！！！\\n        ', '力荐')\n",
      "('2018-06-15', ' 照这样拍下去，假以时日，当这群恐龙与人类上演着侏罗纪世界版的“忠犬八公的故事”或者“一条狗的使命”，甚至是侏罗纪世界版的“水形物语”，我也丝毫不会吃惊。\\n        ', '还行')\n",
      "('2018-06-13', ' 之前被友邻刷太多差评，导致看时挺惊喜。虽然具体情节上相当的套路、干硬，但概念是侏罗纪系列最新的一部：“岛”不复存在，取之以古堡惊魂，最后化为共存的大格局。特效的精细程度和大量夜戏的质感都是好莱坞一流水平，好几场戏利用打光做的浓墨重彩。\\n        ', '还行')\n",
      "('2018-06-14', ' 男主角太牛逼了，瞬间绝地逢生！岩浆到了跟前都愣给站起来了！和大恐龙一起跑都没发生踩踏事件！真的不考虑给男主角评个恐龙侠吗？漫威真的要考虑下是不是要拉他入伙！\\n        ', '力荐')\n",
      "('2018-06-15', ' 剧情敢不敢再老套一点？依旧想说，果然对国外的片子豆友很宽容\\n        ', '较差')\n",
      "('2018-06-15', ' 牛逼牛逼，特效赞爆！恐龙的数量和品种都比第一部多，质量完爆，我要二刷了！\\n        ', '力荐')\n",
      "('2018-06-16', ' 暴虐恐龙追杀小女孩那一场戏真是充满了古典之美。\\n        ', '推荐')\n",
      "('2018-06-15', ' 恐龙假死又微微笑的那一刻太吓人了，可能要入选最恐怖镜头Top10。以及，结尾有彩蛋！\\n        ', '推荐')\n",
      "('2018-06-15', ' 把里面的恐龙\\U0001f996换成🐶，女主变成传统🐶粉，女二号小女孩变成极端🐶粉，星爵变成训🐶师。毫无违和感！抱歉接受不了白左们思维，人类:作死使我快乐！这辈子都不可能不作死了！作为个普通爱恐龙人士，爱恐龙人士表示强烈的谴责！\\n        ', '还行')\n",
      "('2018-06-15', ' 剧情有点老套，增加了恐龙与人的互动，情节更加紧张刺激，新加的角色也不错，不乏有剧情反转，还是推荐观看。最后有彩蛋哦～\\n        ', '推荐')\n",
      "('2018-06-15', ' 作逼龙奴如同失心疯爱狗人士。\\n        ', '很差')\n",
      "('2018-06-15', ' 虽然情节不免老套，侏罗纪系列无非就是如此啦，大家懂的，还有神奇圣母脑回路，但是作为爽片已经可以了，第二部恐龙种增多，欧文和布鲁互动有爱一百分，但女主不如第一部时候了有点多余了我个人觉得。大体还是值得一看的最好选imax哦。另外，帕帕老公我爱你！！！！\\n        ', '推荐')\n"
     ]
    }
   ],
   "source": [
    "for i in reviews: print(i)"
   ]
  }
 ],
 "metadata": {
  "kernelspec": {
   "display_name": "Python 3",
   "language": "python",
   "name": "python3"
  },
  "language_info": {
   "codemirror_mode": {
    "name": "ipython",
    "version": 3
   },
   "file_extension": ".py",
   "mimetype": "text/x-python",
   "name": "python",
   "nbconvert_exporter": "python",
   "pygments_lexer": "ipython3",
   "version": "3.6.4"
  }
 },
 "nbformat": 4,
 "nbformat_minor": 2
}
