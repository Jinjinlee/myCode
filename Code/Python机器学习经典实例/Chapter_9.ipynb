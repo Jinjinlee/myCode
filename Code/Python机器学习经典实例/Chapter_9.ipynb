{
 "cells": [
  {
   "cell_type": "code",
   "execution_count": null,
   "metadata": {},
   "outputs": [],
   "source": [
    "# 9.2 opencv-python\n",
    "import cv2\n",
    "import numpy as np\n",
    "\n",
    "# Load and display an image -- 'forest.jpg'\n",
    "input_file = 'forest.jpg'\n",
    "img = cv2.imread(input_file)\n",
    "cv2.imshow('Original', img)\n",
    "\n",
    "# Cropping an image\n",
    "h, w = img.shape[:2]\n",
    "start_row, end_row = int(0.21*h), int(0.73*h)\n",
    "start_col, end_col= int(0.37*w), int(0.92*w)\n",
    "img_cropped = img[start_row:end_row, start_col:end_col]\n",
    "cv2.imshow('Cropped', img_cropped)\n",
    "\n",
    "# Resizing an image\n",
    "scaling_factor = 1.3\n",
    "img_scaled = cv2.resize(img, None, fx=scaling_factor, fy=scaling_factor, \n",
    "        interpolation=cv2.INTER_LINEAR)\n",
    "cv2.imshow('Uniform resizing', img_scaled)\n",
    "img_scaled = cv2.resize(img, (250, 400), interpolation=cv2.INTER_AREA)\n",
    "cv2.imshow('Skewed resizing', img_scaled)\n",
    "\n",
    "# Save an image\n",
    "output_file = input_file[:-4] + '_cropped.jpg'\n",
    "cv2.imwrite(output_file, img_cropped)\n",
    "\n",
    "cv2.waitKey()"
   ]
  },
  {
   "cell_type": "code",
   "execution_count": null,
   "metadata": {},
   "outputs": [],
   "source": [
    "# 9.3 edge detector\n",
    "import cv2\n",
    "import numpy as np\n",
    "\n",
    "# Load the input image -- 'chair.jpg'\n",
    "# Convert it to grayscale \n",
    "input_file = 'chair.jpg'\n",
    "img = cv2.imread(input_file, cv2.IMREAD_GRAYSCALE)\n",
    "h, w = img.shape\n",
    "\n",
    "sobel_horizontal = cv2.Sobel(img, cv2.CV_64F, 1, 0, ksize=5)\n",
    "sobel_vertical = cv2.Sobel(img, cv2.CV_64F, 0, 1, ksize=5)\n",
    "laplacian = cv2.Laplacian(img, cv2.CV_64F)\n",
    "canny = cv2.Canny(img, 50, 240)\n",
    "\n",
    "cv2.imshow('Original', img)\n",
    "cv2.imshow('Sobel horizontal', sobel_horizontal)\n",
    "cv2.imshow('Sobel vertical', sobel_vertical)\n",
    "cv2.imshow('Laplacian', laplacian)\n",
    "cv2.imshow('Canny', canny)\n",
    "\n",
    "cv2.waitKey()"
   ]
  },
  {
   "cell_type": "code",
   "execution_count": null,
   "metadata": {},
   "outputs": [],
   "source": [
    "# 9.4 histogram equalizer\n",
    "import cv2\n",
    "import numpy as np\n",
    "\n",
    "# Load input image -- 'sunrise.jpg'\n",
    "input_file = 'sunrise.jpg'\n",
    "img = cv2.imread(input_file)\n",
    "\n",
    "# Convert it to grayscale\n",
    "img_gray = cv2.cvtColor(img, cv2.COLOR_BGR2GRAY)\n",
    "cv2.imshow('Input grayscale image', img_gray)\n",
    "\n",
    "# Equalize the histogram\n",
    "img_gray_histeq = cv2.equalizeHist(img_gray)\n",
    "cv2.imshow('Histogram equalized - grayscale', img_gray_histeq)\n",
    "\n",
    "# Histogram equalization of color images\n",
    "img_yuv = cv2.cvtColor(img, cv2.COLOR_BGR2YUV)\n",
    "img_yuv[:,:,0] = cv2.equalizeHist(img_yuv[:,:,0])\n",
    "\n",
    "img_histeq = cv2.cvtColor(img_yuv, cv2.COLOR_YUV2BGR)\n",
    "\n",
    "cv2.imshow('Input color image', img)\n",
    "cv2.imshow('Histogram equalized - color', img_histeq)\n",
    "\n",
    "cv2.waitKey()"
   ]
  },
  {
   "cell_type": "code",
   "execution_count": null,
   "metadata": {},
   "outputs": [],
   "source": [
    "# 9.5 corner detector\n",
    "import cv2\n",
    "import numpy as np\n",
    "\n",
    "# Load input image -- 'box.png'\n",
    "input_file = 'box.png'\n",
    "img = cv2.imread(input_file)\n",
    "cv2.imshow('Input image', img)\n",
    "\n",
    "img_gray = cv2.cvtColor(img, cv2.COLOR_BGR2GRAY)\n",
    "img_gray = np.float32(img_gray)\n",
    "\n",
    "# Harris corner detector \n",
    "img_harris = cv2.cornerHarris(img_gray, 7, 5, 0.04)\n",
    "\n",
    "# Resultant image is dilated to mark the corners\n",
    "img_harris = cv2.dilate(img_harris, None)\n",
    "\n",
    "# Threshold the image \n",
    "img[img_harris > 0.01 * img_harris.max()] = [0, 0, 0]\n",
    "\n",
    "cv2.imshow('Harris Corners', img)\n",
    "cv2.waitKey()"
   ]
  },
  {
   "cell_type": "code",
   "execution_count": null,
   "metadata": {},
   "outputs": [],
   "source": [
    "# 9.6 feature detector\n"
   ]
  }
 ],
 "metadata": {
  "kernelspec": {
   "display_name": "Python 3",
   "language": "python",
   "name": "python3"
  },
  "language_info": {
   "codemirror_mode": {
    "name": "ipython",
    "version": 3
   },
   "file_extension": ".py",
   "mimetype": "text/x-python",
   "name": "python",
   "nbconvert_exporter": "python",
   "pygments_lexer": "ipython3",
   "version": "3.6.4"
  }
 },
 "nbformat": 4,
 "nbformat_minor": 2
}
