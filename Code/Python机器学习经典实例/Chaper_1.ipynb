{
 "cells": [
  {
   "cell_type": "code",
   "execution_count": 2,
   "metadata": {},
   "outputs": [
    {
     "name": "stdout",
     "output_type": "stream",
     "text": [
      "Mean = [ 5.55111512e-17 -1.11022302e-16 -7.40148683e-17 -7.40148683e-17]\n",
      "Std deviation = [1. 1. 1. 1.]\n"
     ]
    }
   ],
   "source": [
    "# 1.2 preprocessing\n",
    "# mean removal\n",
    "import numpy as np\n",
    "from sklearn import preprocessing\n",
    "data = np.array([[3,  -1.5,    2,  -5.4], [0,    4,    -0.3,  2.1], [1,    3.3, -1.9, -4.3]])\n",
    "data_standardized = preprocessing.scale(data)\n",
    "print(\"Mean =\", data_standardized.mean(axis=0))\n",
    "print(\"Std deviation =\", data_standardized.std(axis=0))"
   ]
  },
  {
   "cell_type": "code",
   "execution_count": 3,
   "metadata": {},
   "outputs": [
    {
     "name": "stdout",
     "output_type": "stream",
     "text": [
      "Min max scaled data =\n",
      " [[1.         0.         1.         0.        ]\n",
      " [0.         1.         0.41025641 1.        ]\n",
      " [0.33333333 0.87272727 0.         0.14666667]]\n"
     ]
    }
   ],
   "source": [
    "# Scaling\n",
    "data_scaler = preprocessing.MinMaxScaler(feature_range=(0, 1)) \n",
    "data_scaled = data_scaler.fit_transform(data)\n",
    "print(\"Min max scaled data =\\n\", data_scaled)"
   ]
  },
  {
   "cell_type": "code",
   "execution_count": 4,
   "metadata": {},
   "outputs": [
    {
     "name": "stdout",
     "output_type": "stream",
     "text": [
      "L1 normalized data =\n",
      " [[ 0.25210084 -0.12605042  0.16806723 -0.45378151]\n",
      " [ 0.          0.625      -0.046875    0.328125  ]\n",
      " [ 0.0952381   0.31428571 -0.18095238 -0.40952381]]\n"
     ]
    }
   ],
   "source": [
    "# Normalization\n",
    "data_normalized = preprocessing.normalize(data, norm='l1') \n",
    "print(\"L1 normalized data =\\n\", data_normalized)"
   ]
  },
  {
   "cell_type": "code",
   "execution_count": 5,
   "metadata": {},
   "outputs": [
    {
     "name": "stdout",
     "output_type": "stream",
     "text": [
      "Binarized data =\n",
      " [[1. 0. 1. 0.]\n",
      " [0. 1. 0. 1.]\n",
      " [0. 1. 0. 0.]]\n"
     ]
    }
   ],
   "source": [
    "# Binarization\n",
    "data_binarized = preprocessing.Binarizer(threshold=1.4).transform(data) \n",
    "print(\"Binarized data =\\n\", data_binarized)"
   ]
  },
  {
   "cell_type": "code",
   "execution_count": 6,
   "metadata": {},
   "outputs": [
    {
     "name": "stdout",
     "output_type": "stream",
     "text": [
      "Encoded vector =\n",
      " [[0. 0. 1. 0. 1. 0. 0. 0. 1. 1. 0.]]\n"
     ]
    }
   ],
   "source": [
    "# One-Hot Encoding\n",
    "encoder = preprocessing.OneHotEncoder()\n",
    "encoder.fit([[0, 2, 1, 12], [1, 3, 5, 3], [2, 3, 2, 12], [1, 2, 4, 3]])\n",
    "encoded_vector = encoder.transform([[2, 3, 5, 3]]).toarray()\n",
    "print(\"Encoded vector =\\n\", encoded_vector)"
   ]
  },
  {
   "cell_type": "code",
   "execution_count": 7,
   "metadata": {},
   "outputs": [
    {
     "name": "stdout",
     "output_type": "stream",
     "text": [
      "Class mapping:\n",
      "audi --> 0\n",
      "bmw --> 1\n",
      "ford --> 2\n",
      "toyota --> 3\n"
     ]
    }
   ],
   "source": [
    "# 1.2 label encoding\n",
    "# class mapping\n",
    "from sklearn import preprocessing\n",
    "label_encoder = preprocessing.LabelEncoder()\n",
    "input_classes = ['audi', 'ford', 'audi', 'toyota', 'ford', 'bmw']\n",
    "label_encoder.fit(input_classes)\n",
    "print(\"Class mapping:\")\n",
    "for i, item in enumerate(label_encoder.classes_):\n",
    "        print(item, '-->', i)"
   ]
  },
  {
   "cell_type": "code",
   "execution_count": 8,
   "metadata": {},
   "outputs": [
    {
     "name": "stdout",
     "output_type": "stream",
     "text": [
      "Labels = ['toyota', 'ford', 'audi']\n",
      "Encoded labels = [3, 2, 0]\n"
     ]
    }
   ],
   "source": [
    "# class mapping 2\n",
    "labels = ['toyota', 'ford', 'audi']\n",
    "encoded_labels = label_encoder.transform(labels)\n",
    "print(\"Labels =\", labels)\n",
    "print(\"Encoded labels =\", list(encoded_labels))"
   ]
  },
  {
   "cell_type": "code",
   "execution_count": 9,
   "metadata": {},
   "outputs": [
    {
     "name": "stdout",
     "output_type": "stream",
     "text": [
      "Encoded labels = [2, 1, 0, 3, 1]\n",
      "Decoded labels = ['ford', 'bmw', 'audi', 'toyota', 'bmw']\n"
     ]
    },
    {
     "name": "stderr",
     "output_type": "stream",
     "text": [
      "/Users/lijinjin/anaconda3/lib/python3.6/site-packages/sklearn/preprocessing/label.py:151: DeprecationWarning: The truth value of an empty array is ambiguous. Returning False, but in future this will result in an error. Use `array.size > 0` to check that an array is not empty.\n",
      "  if diff:\n"
     ]
    }
   ],
   "source": [
    "# class mapping 3\n",
    "encoded_labels = [2, 1, 0, 3, 1]\n",
    "decoded_labels = label_encoder.inverse_transform(encoded_labels) \n",
    "print(\"Encoded labels =\", encoded_labels) \n",
    "print(\"Decoded labels =\", list(decoded_labels))"
   ]
  },
  {
   "cell_type": "code",
   "execution_count": 23,
   "metadata": {},
   "outputs": [
    {
     "name": "stdout",
     "output_type": "stream",
     "text": [
      "<_io.TextIOWrapper name='data_singlevar.txt' mode='r' encoding='UTF-8'>\n"
     ]
    },
    {
     "data": {
      "image/png": "[encoded data removed]",
      "text/plain": [
       "<matplotlib.figure.Figure at 0x1a15b8c5c0>"
      ]
     },
     "metadata": {},
     "output_type": "display_data"
    }
   ],
   "source": [
    "# 1.4 linear regression\n",
    "import numpy as np\n",
    "filename = 'data_singlevar.txt'\n",
    "X = []\n",
    "y = []\n",
    "with open(filename, 'r') as f:\n",
    "    print(f)\n",
    "    for line in f.readlines():\n",
    "        xt, yt = [float(i) for i in line.split(',')]\n",
    "        X.append(xt)\n",
    "        y.append(yt)\n",
    "num_training = int(0.8 * len(X))\n",
    "num_test = len(X) - num_training\n",
    "# training dataset\n",
    "X_train = np.array(X[:num_training]).reshape((num_training,1)) \n",
    "y_train = np.array(y[:num_training])\n",
    "# testing dataset\n",
    "X_test = np.array(X[num_training:]).reshape((num_test,1)) \n",
    "y_test = np.array(y[num_training:])\n",
    "\n",
    "# linear regresison model\n",
    "from sklearn import linear_model\n",
    "# linear regression object\n",
    "linear_regressor = linear_model.LinearRegression()\n",
    "# train models\n",
    "linear_regressor.fit(X_train, y_train)\n",
    "# check fitness of training set\n",
    "import matplotlib.pyplot as plt\n",
    "y_train_pred = linear_regressor.predict(X_train) \n",
    "plt.figure()\n",
    "plt.scatter(X_train, y_train, color='green')\n",
    "plt.plot(X_train, y_train_pred, color='black', linewidth=4)\n",
    "plt.title('Training data')\n",
    "plt.show()"
   ]
  },
  {
   "cell_type": "code",
   "execution_count": 11,
   "metadata": {},
   "outputs": [
    {
     "data": {
      "image/png": "[encoded data removed]",
      "text/plain": [
       "<matplotlib.figure.Figure at 0x108527940>"
      ]
     },
     "metadata": {},
     "output_type": "display_data"
    }
   ],
   "source": [
    "# check fitness of test set\n",
    "y_test_pred = linear_regressor.predict(X_test)\n",
    "plt.scatter(X_test, y_test, color='green')\n",
    "plt.plot(X_test, y_test_pred, color='black', linewidth=4)\n",
    "plt.title('Test data')\n",
    "plt.show()"
   ]
  },
  {
   "cell_type": "code",
   "execution_count": 12,
   "metadata": {},
   "outputs": [
    {
     "name": "stdout",
     "output_type": "stream",
     "text": [
      "Mean absolute error = 0.54\n",
      "Mean squared error = 0.38\n",
      "Median absolute error = 0.54\n",
      "Explain variance score = 0.68\n",
      "R2 score = 0.68\n"
     ]
    }
   ],
   "source": [
    "# Measure performance\n",
    "import sklearn.metrics as sm\n",
    "print(\"Mean absolute error =\", round(sm.mean_absolute_error(y_test, y_test_pred), 2) )\n",
    "print(\"Mean squared error =\", round(sm.mean_squared_error(y_test, y_test_pred), 2))\n",
    "print(\"Median absolute error =\", round(sm.median_absolute_error(y_test, y_test_pred), 2)) \n",
    "print(\"Explain variance score =\", round(sm.explained_variance_score(y_test, y_test_pred), 2)) \n",
    "print(\"R2 score =\", round(sm.r2_score(y_test, y_test_pred), 2))"
   ]
  },
  {
   "cell_type": "code",
   "execution_count": 17,
   "metadata": {},
   "outputs": [
    {
     "name": "stdout",
     "output_type": "stream",
     "text": [
      "RIDGE:\n",
      "Mean absolute error = 3.95\n",
      "Mean squared error = 23.15\n",
      "Median absolute error = 3.69\n",
      "Explained variance score = 0.84\n",
      "R2 score = 0.83\n"
     ]
    }
   ],
   "source": [
    "# ridge regression\n",
    "import numpy as np\n",
    "filename = 'data_multivar.txt'\n",
    "X = []\n",
    "y = []\n",
    "with open(filename, 'r') as f:\n",
    "    for line in f.readlines():\n",
    "        data = [float(i) for i in line.split(',')]\n",
    "        xt, yt = data[:-1], data[-1]\n",
    "        X.append(xt)\n",
    "        y.append(yt)\n",
    "# Train/test split\n",
    "num_training = int(0.8 * len(X))\n",
    "num_test = len(X) - num_training\n",
    "# Training data\n",
    "X_train = np.array(X[:num_training])\n",
    "y_train = np.array(y[:num_training])\n",
    "# Test data\n",
    "X_test = np.array(X[num_training:])\n",
    "y_test = np.array(y[num_training:])\n",
    "# Create linear regression object\n",
    "from sklearn import linear_model\n",
    "ridge_regressor = linear_model.Ridge(alpha=0.01, fit_intercept=True, max_iter=10000)\n",
    "# Train the model using the training sets\n",
    "ridge_regressor.fit(X_train, y_train)\n",
    "# Predict the output\n",
    "y_test_pred_ridge = ridge_regressor.predict(X_test)\n",
    "# Measure performance\n",
    "import sklearn.metrics as sm\n",
    "print(\"RIDGE:\")\n",
    "print(\"Mean absolute error =\", round(sm.mean_absolute_error(y_test, y_test_pred_ridge), 2))\n",
    "print(\"Mean squared error =\", round(sm.mean_squared_error(y_test, y_test_pred_ridge), 2))\n",
    "print(\"Median absolute error =\", round(sm.median_absolute_error(y_test, y_test_pred_ridge), 2))\n",
    "print(\"Explained variance score =\", round(sm.explained_variance_score(y_test, y_test_pred_ridge), 2)) \n",
    "print(\"R2 score =\", round(sm.r2_score(y_test, y_test_pred_ridge), 2))"
   ]
  },
  {
   "cell_type": "code",
   "execution_count": 36,
   "metadata": {},
   "outputs": [
    {
     "name": "stdout",
     "output_type": "stream",
     "text": [
      "#### Decision Tree performance ####\n",
      "Mean squared error = 14.79\n",
      "Explained variance score = 0.82\n",
      "#### AdaBoost performance ####\n",
      "Mean squared error = 7.64\n",
      "Explained variance score = 0.91\n"
     ]
    },
    {
     "data": {
      "image/png": "[encoded data removed]",
      "text/plain": [
       "<matplotlib.figure.Figure at 0x1a16b4ac18>"
      ]
     },
     "metadata": {},
     "output_type": "display_data"
    },
    {
     "data": {
      "image/png": "[encoded data removed]",
      "text/plain": [
       "<matplotlib.figure.Figure at 0x1a16dc45f8>"
      ]
     },
     "metadata": {},
     "output_type": "display_data"
    }
   ],
   "source": [
    "# 1.9 house pricing prediction (Decission Tree Vs. AdaBoost)\n",
    "import numpy as np\n",
    "from sklearn.ensemble import RandomForestRegressor, AdaBoostRegressor\n",
    "from sklearn.tree import DecisionTreeRegressor\n",
    "from sklearn import datasets\n",
    "from sklearn.metrics import mean_squared_error, explained_variance_score\n",
    "from sklearn.utils import shuffle\n",
    "import matplotlib.pyplot as plt\n",
    "\n",
    "def plot_feature_importances(feature_importances, title, feature_names):\n",
    "    # Normalize the importance values \n",
    "    feature_importances = 100.0 * (feature_importances / max(feature_importances))\n",
    "\n",
    "    # Sort the values and flip them\n",
    "    index_sorted = np.flipud(np.argsort(feature_importances))\n",
    "\n",
    "    # Arrange the X ticks\n",
    "    pos = np.arange(index_sorted.shape[0]) + 0.5\n",
    "\n",
    "    # Plot the bar graph\n",
    "    plt.figure()\n",
    "    plt.bar(pos, feature_importances[index_sorted], align='center')\n",
    "    plt.xticks(pos, feature_names[index_sorted])\n",
    "    plt.ylabel('Relative Importance')\n",
    "    plt.title(title)\n",
    "    plt.show()\n",
    "if __name__=='__main__':\n",
    "    # Load housing data\n",
    "    housing_data = datasets.load_boston() \n",
    "    # Shuffle the data\n",
    "    X, y = shuffle(housing_data.data, housing_data.target, random_state=7)\n",
    "    # Split the data 80/20 (80% for training, 20% for testing)\n",
    "    num_training = int(0.8 * len(X))\n",
    "    X_train, y_train = X[:num_training], y[:num_training]\n",
    "    X_test, y_test = X[num_training:], y[num_training:]\n",
    "    # Fit decision tree regression model\n",
    "    dt_regressor = DecisionTreeRegressor(max_depth=4)\n",
    "    dt_regressor.fit(X_train, y_train)\n",
    "    # Fit decision tree regression model with AdaBoost\n",
    "    ab_regressor = AdaBoostRegressor(DecisionTreeRegressor(max_depth=4), n_estimators=400, random_state=7)\n",
    "    ab_regressor.fit(X_train, y_train)\n",
    "    # Evaluate performance of Decision Tree regressor\n",
    "    y_pred_dt = dt_regressor.predict(X_test)\n",
    "    mse = mean_squared_error(y_test, y_pred_dt)\n",
    "    evs = explained_variance_score(y_test, y_pred_dt) \n",
    "    print(\"#### Decision Tree performance ####\")\n",
    "    print(\"Mean squared error =\", round(mse, 2))\n",
    "    print(\"Explained variance score =\", round(evs, 2))\n",
    "    # Evaluate performance of AdaBoost\n",
    "    y_pred_ab = ab_regressor.predict(X_test)\n",
    "    mse = mean_squared_error(y_test, y_pred_ab)\n",
    "    evs = explained_variance_score(y_test, y_pred_ab) \n",
    "    print(\"#### AdaBoost performance ####\")\n",
    "    print(\"Mean squared error =\", round(mse, 2))\n",
    "    print(\"Explained variance score =\", round(evs, 2))\n",
    "    # Plot relative feature importances \n",
    "    plot_feature_importances(dt_regressor.feature_importances_, \n",
    "            'Decision Tree regressor', housing_data.feature_names)\n",
    "    plot_feature_importances(ab_regressor.feature_importances_, \n",
    "            'AdaBoost regressor', housing_data.feature_names)"
   ]
  },
  {
   "cell_type": "code",
   "execution_count": 48,
   "metadata": {},
   "outputs": [
    {
     "name": "stdout",
     "output_type": "stream",
     "text": [
      "\n",
      "#### Random Forest regressor performance ####\n",
      "Mean squared error = 351494.59\n",
      "Explained variance score = 0.9\n"
     ]
    },
    {
     "data": {
      "image/png": "[encoded data removed]",
      "text/plain": [
       "<matplotlib.figure.Figure at 0x1a16c7d9e8>"
      ]
     },
     "metadata": {},
     "output_type": "display_data"
    }
   ],
   "source": [
    "# 1.11 Sharing bike\n",
    "import csv\n",
    "import numpy as np\n",
    "from sklearn.ensemble import RandomForestRegressor \n",
    "from sklearn import preprocessing\n",
    "from sklearn.metrics import mean_squared_error, explained_variance_score\n",
    "from sklearn.utils import shuffle\n",
    "import matplotlib.pyplot as plt\n",
    "from housing import plot_feature_importances\n",
    "\n",
    "def load_dataset(filename):\n",
    "    file_reader = csv.reader(open(filename, 'r'), delimiter=',')\n",
    "    X, y = [], []\n",
    "    for row in file_reader:\n",
    "        X.append(row[2:13])\n",
    "        y.append(row[-1])\n",
    "    # Extract feature names\n",
    "    feature_names = np.array(X[0])\n",
    "    # Remove the first row because they are feature names\n",
    "    return np.array(X[1:]).astype(np.float32), np.array(y[1:]).astype(np.float32), feature_names\n",
    "\n",
    "if __name__=='__main__':\n",
    "    # Load the dataset from the input file\n",
    "    X, y, feature_names = load_dataset('bike_day.csv')\n",
    "    X, y = shuffle(X, y, random_state=7) \n",
    "\n",
    "    # Split the data 80/20 (80% for training, 20% for testing)\n",
    "    num_training = int(0.9 * len(X))\n",
    "    X_train, y_train = X[:num_training], y[:num_training]\n",
    "    X_test, y_test = X[num_training:], y[num_training:]\n",
    "    \n",
    "    # Fit Random Forest regression model\n",
    "    rf_regressor = RandomForestRegressor(n_estimators=1000, max_depth=10, min_samples_split=2)\n",
    "    rf_regressor.fit(X_train, y_train)\n",
    "    \n",
    "    # Evaluate performance of Random Forest regressor\n",
    "    y_pred = rf_regressor.predict(X_test)\n",
    "    mse = mean_squared_error(y_test, y_pred)\n",
    "    evs = explained_variance_score(y_test, y_pred) \n",
    "    print(\"\\n#### Random Forest regressor performance ####\")\n",
    "    print(\"Mean squared error =\", round(mse, 2))\n",
    "    print(\"Explained variance score =\", round(evs, 2))\n",
    "    \n",
    "    # Plot relative feature importances \n",
    "    plot_feature_importances(rf_regressor.feature_importances_, 'Random Forest regressor', feature_names)"
   ]
  }
 ],
 "metadata": {
  "kernelspec": {
   "display_name": "Python 3",
   "language": "python",
   "name": "python3"
  },
  "language_info": {
   "codemirror_mode": {
    "name": "ipython",
    "version": 3
   },
   "file_extension": ".py",
   "mimetype": "text/x-python",
   "name": "python",
   "nbconvert_exporter": "python",
   "pygments_lexer": "ipython3",
   "version": "3.6.4"
  }
 },
 "nbformat": 4,
 "nbformat_minor": 2
}
